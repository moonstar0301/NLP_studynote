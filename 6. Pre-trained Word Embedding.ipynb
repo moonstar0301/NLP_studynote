{
 "cells": [
  {
   "cell_type": "markdown",
   "metadata": {},
   "source": [
    "### 사전 훈련된 워드 임베딩(Pre-trained Word Embedding)\n",
    "\n",
    "이번에는 케라스의 임베딩 층(embedding layer) 과 사전 훈련된 워드 임베딩(pre-trained word embedding)을 가져와서 사용하는 것을 비교해봅니다. 자연어 처리를 하려고 할 때 갖고 있는 훈련 데이터의 단어들을 임베딩 층(embedding layer)을 구현하여 임베딩 벡터로 학습하는 경우가 있습니다. 케라스에서는 이를 Embedding()이라는 도구를 사용하여 구현합니다.\n",
    "\n",
    "위키피디아 등과 같은 방대한 코퍼스를 가지고 Word2vec, FastText, GloVe 등을 통해서 미리 훈련된 임베딩 벡터를 불러오는 방법을 사용하는 경우도 있습니다. 이는 현재 갖고 있는 훈련 데이터를 임베딩 층으로 처음부터 학습을 하는 방법과는 대조됩니다."
   ]
  },
  {
   "cell_type": "markdown",
   "metadata": {},
   "source": [
    "#### 1. 케라스 임베딩 층(Keras Embedding layer)\n",
    "케라스는 훈련 데이터의 단어들에 대해 워드 임베딩을 수행하는 도구 Embedding()을 제공합니다. Embedding()은 인공 신경망 구조 관점에서 임베딩층(embedding layer)을 구현합니다.\n",
    "\n",
    "(1) 임베딩 층은 룩업 테이블이다.\n",
    "임베딩 층의 입력으로 사용하기 위해서 입력 시퀀스의 각 단어들은 모두 정수 인코딩이 되어있어야 합니다.\n",
    "\n",
    "어떤 단어 -> 단어에 부여된 고유한 정수값 -> 임베딩 층 통과 -> 밀집 벡터\n",
    "\n",
    "임베딩 층은 입력 정수에 대해 밀집 벡터(dense vector)로 맵핑하고 이 밀집 벡터는 인공 신명망의 학습 과정에서 가중치가 학습되는 것과 같은 방식으로 훈련됩니다. 훈련 과정에서 단어는 모델이 풀고자하는 작업에 맞는 값으로 업데이트 됩니다. 그리고 이 밀집 벡터를 임베딩 벡터라고 합니다.\n",
    "\n",
    "정수를 밀집 벡터 또는 임베딩 벡터로 맵핑한다는 것은 어떤 의미일까요? 특정 단어와 맵핑되는 정수를 인덱스로 가지는 테이블로부터 임베딩 벡터 값을 가져오는 룩업 테이블이라고 볼 수 있습니다. 그리고 이 테이블은 단어 집합의 크기만큼의 행을 가지므로 모든 단어는 고유한 임베딩 벡터를 가집니다.\n",
    "\n",
    "![Alt text](image-26.png)\n",
    "\n"
   ]
  },
  {
   "cell_type": "code",
   "execution_count": 2,
   "metadata": {},
   "outputs": [
    {
     "name": "stdout",
     "output_type": "stream",
     "text": [
      "단어 집합 : 16\n"
     ]
    }
   ],
   "source": [
    "# 임베딩층 사용하기\n",
    "import numpy as np\n",
    "from tensorflow.keras.preprocessing.text import Tokenizer\n",
    "from tensorflow.keras.preprocessing.sequence import pad_sequences\n",
    "\n",
    "sentences = ['nice great best amazing', 'stop lies', 'pitiful nerd', 'excellent work', 'supreme quality', 'bad', 'highly respectable']\n",
    "y_train = [1, 0, 0, 1, 1, 0, 1]\n",
    "\n",
    "# 케라스의 코트나이저를 사용하여 단어 집합을 만들고 그 크기를 확인합니다.\n",
    "tokenizer = Tokenizer()\n",
    "tokenizer.fit_on_texts(sentences)\n",
    "vocab_size = len(tokenizer.word_index) + 1 # 패딩을 고려하여 +1\n",
    "print('단어 집합 :',vocab_size)\n"
   ]
  },
  {
   "cell_type": "code",
   "execution_count": 3,
   "metadata": {},
   "outputs": [
    {
     "name": "stdout",
     "output_type": "stream",
     "text": [
      "정수 인코딩 결과 : [[1, 2, 3, 4], [5, 6], [7, 8], [9, 10], [11, 12], [13], [14, 15]]\n"
     ]
    }
   ],
   "source": [
    "# 각 문장에 대해서 정수 인코딩을 수행합니다.\n",
    "X_encoded = tokenizer.texts_to_sequences(sentences)\n",
    "print('정수 인코딩 결과 :',X_encoded)"
   ]
  },
  {
   "cell_type": "code",
   "execution_count": 4,
   "metadata": {},
   "outputs": [
    {
     "name": "stdout",
     "output_type": "stream",
     "text": [
      "최대 길이 : 4\n"
     ]
    }
   ],
   "source": [
    "# 가장 길이가 긴 문장의 길이를 구합니다.\n",
    "max_len = max(len(l) for l in X_encoded)\n",
    "print('최대 길이 :',max_len)"
   ]
  },
  {
   "cell_type": "code",
   "execution_count": 6,
   "metadata": {},
   "outputs": [
    {
     "name": "stdout",
     "output_type": "stream",
     "text": [
      "패딩 결과 :\n",
      "[[ 1  2  3  4]\n",
      " [ 5  6  0  0]\n",
      " [ 7  8  0  0]\n",
      " [ 9 10  0  0]\n",
      " [11 12  0  0]\n",
      " [13  0  0  0]\n",
      " [14 15  0  0]]\n"
     ]
    }
   ],
   "source": [
    "# 최대 길이로 모든 샘플에 대해서 패딩을 진행합니다.\n",
    "X_train = pad_sequences(X_encoded, maxlen=max_len, padding='post')\n",
    "y_train = np.array(y_train)\n",
    "print('패딩 결과 :')\n",
    "print(X_train)"
   ]
  },
  {
   "cell_type": "code",
   "execution_count": 7,
   "metadata": {},
   "outputs": [
    {
     "name": "stdout",
     "output_type": "stream",
     "text": [
      "Epoch 1/100\n",
      "1/1 - 0s - loss: 0.6848 - acc: 0.8571 - 405ms/epoch - 405ms/step\n",
      "Epoch 2/100\n",
      "1/1 - 0s - loss: 0.6832 - acc: 0.8571 - 4ms/epoch - 4ms/step\n",
      "Epoch 3/100\n",
      "1/1 - 0s - loss: 0.6817 - acc: 0.8571 - 2ms/epoch - 2ms/step\n",
      "Epoch 4/100\n",
      "1/1 - 0s - loss: 0.6801 - acc: 0.8571 - 3ms/epoch - 3ms/step\n",
      "Epoch 5/100\n",
      "1/1 - 0s - loss: 0.6785 - acc: 0.8571 - 2ms/epoch - 2ms/step\n",
      "Epoch 6/100\n",
      "1/1 - 0s - loss: 0.6769 - acc: 0.8571 - 3ms/epoch - 3ms/step\n",
      "Epoch 7/100\n",
      "1/1 - 0s - loss: 0.6753 - acc: 0.8571 - 3ms/epoch - 3ms/step\n",
      "Epoch 8/100\n",
      "1/1 - 0s - loss: 0.6738 - acc: 0.8571 - 4ms/epoch - 4ms/step\n",
      "Epoch 9/100\n",
      "1/1 - 0s - loss: 0.6722 - acc: 0.8571 - 4ms/epoch - 4ms/step\n",
      "Epoch 10/100\n",
      "1/1 - 0s - loss: 0.6706 - acc: 0.8571 - 4ms/epoch - 4ms/step\n",
      "Epoch 11/100\n",
      "1/1 - 0s - loss: 0.6690 - acc: 0.8571 - 2ms/epoch - 2ms/step\n",
      "Epoch 12/100\n",
      "1/1 - 0s - loss: 0.6674 - acc: 0.8571 - 3ms/epoch - 3ms/step\n",
      "Epoch 13/100\n",
      "1/1 - 0s - loss: 0.6658 - acc: 0.8571 - 3ms/epoch - 3ms/step\n",
      "Epoch 14/100\n",
      "1/1 - 0s - loss: 0.6642 - acc: 0.8571 - 2ms/epoch - 2ms/step\n",
      "Epoch 15/100\n",
      "1/1 - 0s - loss: 0.6626 - acc: 0.8571 - 1ms/epoch - 1ms/step\n",
      "Epoch 16/100\n",
      "1/1 - 0s - loss: 0.6610 - acc: 0.8571 - 5ms/epoch - 5ms/step\n",
      "Epoch 17/100\n",
      "1/1 - 0s - loss: 0.6594 - acc: 1.0000 - 2ms/epoch - 2ms/step\n",
      "Epoch 18/100\n",
      "1/1 - 0s - loss: 0.6577 - acc: 1.0000 - 3ms/epoch - 3ms/step\n",
      "Epoch 19/100\n",
      "1/1 - 0s - loss: 0.6561 - acc: 1.0000 - 4ms/epoch - 4ms/step\n",
      "Epoch 20/100\n",
      "1/1 - 0s - loss: 0.6545 - acc: 1.0000 - 2ms/epoch - 2ms/step\n",
      "Epoch 21/100\n",
      "1/1 - 0s - loss: 0.6528 - acc: 1.0000 - 3ms/epoch - 3ms/step\n",
      "Epoch 22/100\n",
      "1/1 - 0s - loss: 0.6512 - acc: 1.0000 - 2ms/epoch - 2ms/step\n",
      "Epoch 23/100\n",
      "1/1 - 0s - loss: 0.6495 - acc: 1.0000 - 3ms/epoch - 3ms/step\n",
      "Epoch 24/100\n",
      "1/1 - 0s - loss: 0.6479 - acc: 1.0000 - 3ms/epoch - 3ms/step\n",
      "Epoch 25/100\n",
      "1/1 - 0s - loss: 0.6462 - acc: 1.0000 - 2ms/epoch - 2ms/step\n",
      "Epoch 26/100\n",
      "1/1 - 0s - loss: 0.6445 - acc: 1.0000 - 4ms/epoch - 4ms/step\n",
      "Epoch 27/100\n",
      "1/1 - 0s - loss: 0.6428 - acc: 1.0000 - 2ms/epoch - 2ms/step\n",
      "Epoch 28/100\n",
      "1/1 - 0s - loss: 0.6411 - acc: 1.0000 - 2ms/epoch - 2ms/step\n",
      "Epoch 29/100\n",
      "1/1 - 0s - loss: 0.6394 - acc: 1.0000 - 3ms/epoch - 3ms/step\n",
      "Epoch 30/100\n",
      "1/1 - 0s - loss: 0.6377 - acc: 1.0000 - 4ms/epoch - 4ms/step\n",
      "Epoch 31/100\n",
      "1/1 - 0s - loss: 0.6360 - acc: 1.0000 - 3ms/epoch - 3ms/step\n",
      "Epoch 32/100\n",
      "1/1 - 0s - loss: 0.6343 - acc: 1.0000 - 2ms/epoch - 2ms/step\n",
      "Epoch 33/100\n",
      "1/1 - 0s - loss: 0.6325 - acc: 1.0000 - 2ms/epoch - 2ms/step\n",
      "Epoch 34/100\n",
      "1/1 - 0s - loss: 0.6308 - acc: 1.0000 - 3ms/epoch - 3ms/step\n",
      "Epoch 35/100\n",
      "1/1 - 0s - loss: 0.6290 - acc: 1.0000 - 4ms/epoch - 4ms/step\n",
      "Epoch 36/100\n",
      "1/1 - 0s - loss: 0.6273 - acc: 1.0000 - 3ms/epoch - 3ms/step\n",
      "Epoch 37/100\n",
      "1/1 - 0s - loss: 0.6255 - acc: 1.0000 - 3ms/epoch - 3ms/step\n",
      "Epoch 38/100\n",
      "1/1 - 0s - loss: 0.6237 - acc: 1.0000 - 2ms/epoch - 2ms/step\n",
      "Epoch 39/100\n",
      "1/1 - 0s - loss: 0.6220 - acc: 1.0000 - 1ms/epoch - 1ms/step\n",
      "Epoch 40/100\n",
      "1/1 - 0s - loss: 0.6202 - acc: 1.0000 - 2ms/epoch - 2ms/step\n",
      "Epoch 41/100\n",
      "1/1 - 0s - loss: 0.6184 - acc: 1.0000 - 2ms/epoch - 2ms/step\n",
      "Epoch 42/100\n",
      "1/1 - 0s - loss: 0.6166 - acc: 1.0000 - 3ms/epoch - 3ms/step\n",
      "Epoch 43/100\n",
      "1/1 - 0s - loss: 0.6148 - acc: 1.0000 - 4ms/epoch - 4ms/step\n",
      "Epoch 44/100\n",
      "1/1 - 0s - loss: 0.6129 - acc: 1.0000 - 7ms/epoch - 7ms/step\n",
      "Epoch 45/100\n",
      "1/1 - 0s - loss: 0.6111 - acc: 1.0000 - 6ms/epoch - 6ms/step\n",
      "Epoch 46/100\n",
      "1/1 - 0s - loss: 0.6093 - acc: 1.0000 - 5ms/epoch - 5ms/step\n",
      "Epoch 47/100\n",
      "1/1 - 0s - loss: 0.6074 - acc: 1.0000 - 5ms/epoch - 5ms/step\n",
      "Epoch 48/100\n",
      "1/1 - 0s - loss: 0.6056 - acc: 1.0000 - 5ms/epoch - 5ms/step\n",
      "Epoch 49/100\n",
      "1/1 - 0s - loss: 0.6037 - acc: 1.0000 - 5ms/epoch - 5ms/step\n",
      "Epoch 50/100\n",
      "1/1 - 0s - loss: 0.6019 - acc: 1.0000 - 5ms/epoch - 5ms/step\n",
      "Epoch 51/100\n",
      "1/1 - 0s - loss: 0.6000 - acc: 1.0000 - 5ms/epoch - 5ms/step\n",
      "Epoch 52/100\n",
      "1/1 - 0s - loss: 0.5981 - acc: 1.0000 - 3ms/epoch - 3ms/step\n",
      "Epoch 53/100\n",
      "1/1 - 0s - loss: 0.5962 - acc: 1.0000 - 4ms/epoch - 4ms/step\n",
      "Epoch 54/100\n",
      "1/1 - 0s - loss: 0.5943 - acc: 1.0000 - 3ms/epoch - 3ms/step\n",
      "Epoch 55/100\n",
      "1/1 - 0s - loss: 0.5924 - acc: 1.0000 - 2ms/epoch - 2ms/step\n",
      "Epoch 56/100\n",
      "1/1 - 0s - loss: 0.5905 - acc: 1.0000 - 4ms/epoch - 4ms/step\n",
      "Epoch 57/100\n",
      "1/1 - 0s - loss: 0.5886 - acc: 1.0000 - 3ms/epoch - 3ms/step\n",
      "Epoch 58/100\n",
      "1/1 - 0s - loss: 0.5866 - acc: 1.0000 - 3ms/epoch - 3ms/step\n",
      "Epoch 59/100\n",
      "1/1 - 0s - loss: 0.5847 - acc: 1.0000 - 3ms/epoch - 3ms/step\n",
      "Epoch 60/100\n",
      "1/1 - 0s - loss: 0.5827 - acc: 1.0000 - 2ms/epoch - 2ms/step\n",
      "Epoch 61/100\n",
      "1/1 - 0s - loss: 0.5808 - acc: 1.0000 - 3ms/epoch - 3ms/step\n",
      "Epoch 62/100\n",
      "1/1 - 0s - loss: 0.5788 - acc: 1.0000 - 3ms/epoch - 3ms/step\n",
      "Epoch 63/100\n",
      "1/1 - 0s - loss: 0.5769 - acc: 1.0000 - 3ms/epoch - 3ms/step\n",
      "Epoch 64/100\n",
      "1/1 - 0s - loss: 0.5749 - acc: 1.0000 - 3ms/epoch - 3ms/step\n",
      "Epoch 65/100\n",
      "1/1 - 0s - loss: 0.5729 - acc: 1.0000 - 4ms/epoch - 4ms/step\n",
      "Epoch 66/100\n",
      "1/1 - 0s - loss: 0.5709 - acc: 1.0000 - 3ms/epoch - 3ms/step\n",
      "Epoch 67/100\n",
      "1/1 - 0s - loss: 0.5689 - acc: 1.0000 - 3ms/epoch - 3ms/step\n",
      "Epoch 68/100\n",
      "1/1 - 0s - loss: 0.5669 - acc: 1.0000 - 4ms/epoch - 4ms/step\n",
      "Epoch 69/100\n",
      "1/1 - 0s - loss: 0.5649 - acc: 1.0000 - 4ms/epoch - 4ms/step\n",
      "Epoch 70/100\n",
      "1/1 - 0s - loss: 0.5629 - acc: 1.0000 - 3ms/epoch - 3ms/step\n",
      "Epoch 71/100\n",
      "1/1 - 0s - loss: 0.5609 - acc: 1.0000 - 3ms/epoch - 3ms/step\n",
      "Epoch 72/100\n",
      "1/1 - 0s - loss: 0.5589 - acc: 1.0000 - 4ms/epoch - 4ms/step\n",
      "Epoch 73/100\n",
      "1/1 - 0s - loss: 0.5568 - acc: 1.0000 - 2ms/epoch - 2ms/step\n",
      "Epoch 74/100\n",
      "1/1 - 0s - loss: 0.5548 - acc: 1.0000 - 4ms/epoch - 4ms/step\n",
      "Epoch 75/100\n",
      "1/1 - 0s - loss: 0.5528 - acc: 1.0000 - 2ms/epoch - 2ms/step\n",
      "Epoch 76/100\n",
      "1/1 - 0s - loss: 0.5507 - acc: 1.0000 - 3ms/epoch - 3ms/step\n",
      "Epoch 77/100\n",
      "1/1 - 0s - loss: 0.5487 - acc: 1.0000 - 3ms/epoch - 3ms/step\n",
      "Epoch 78/100\n",
      "1/1 - 0s - loss: 0.5466 - acc: 1.0000 - 2ms/epoch - 2ms/step\n",
      "Epoch 79/100\n",
      "1/1 - 0s - loss: 0.5445 - acc: 1.0000 - 3ms/epoch - 3ms/step\n",
      "Epoch 80/100\n",
      "1/1 - 0s - loss: 0.5425 - acc: 1.0000 - 4ms/epoch - 4ms/step\n",
      "Epoch 81/100\n",
      "1/1 - 0s - loss: 0.5404 - acc: 1.0000 - 3ms/epoch - 3ms/step\n",
      "Epoch 82/100\n",
      "1/1 - 0s - loss: 0.5383 - acc: 1.0000 - 2ms/epoch - 2ms/step\n",
      "Epoch 83/100\n",
      "1/1 - 0s - loss: 0.5362 - acc: 1.0000 - 3ms/epoch - 3ms/step\n",
      "Epoch 84/100\n",
      "1/1 - 0s - loss: 0.5341 - acc: 1.0000 - 4ms/epoch - 4ms/step\n",
      "Epoch 85/100\n",
      "1/1 - 0s - loss: 0.5321 - acc: 1.0000 - 4ms/epoch - 4ms/step\n",
      "Epoch 86/100\n",
      "1/1 - 0s - loss: 0.5300 - acc: 1.0000 - 3ms/epoch - 3ms/step\n",
      "Epoch 87/100\n",
      "1/1 - 0s - loss: 0.5279 - acc: 1.0000 - 2ms/epoch - 2ms/step\n",
      "Epoch 88/100\n",
      "1/1 - 0s - loss: 0.5258 - acc: 1.0000 - 2ms/epoch - 2ms/step\n",
      "Epoch 89/100\n",
      "1/1 - 0s - loss: 0.5236 - acc: 1.0000 - 4ms/epoch - 4ms/step\n",
      "Epoch 90/100\n",
      "1/1 - 0s - loss: 0.5215 - acc: 1.0000 - 4ms/epoch - 4ms/step\n",
      "Epoch 91/100\n",
      "1/1 - 0s - loss: 0.5194 - acc: 1.0000 - 2ms/epoch - 2ms/step\n",
      "Epoch 92/100\n",
      "1/1 - 0s - loss: 0.5173 - acc: 1.0000 - 4ms/epoch - 4ms/step\n",
      "Epoch 93/100\n",
      "1/1 - 0s - loss: 0.5152 - acc: 1.0000 - 2ms/epoch - 2ms/step\n",
      "Epoch 94/100\n",
      "1/1 - 0s - loss: 0.5130 - acc: 1.0000 - 3ms/epoch - 3ms/step\n",
      "Epoch 95/100\n",
      "1/1 - 0s - loss: 0.5109 - acc: 1.0000 - 4ms/epoch - 4ms/step\n",
      "Epoch 96/100\n",
      "1/1 - 0s - loss: 0.5088 - acc: 1.0000 - 6ms/epoch - 6ms/step\n",
      "Epoch 97/100\n",
      "1/1 - 0s - loss: 0.5066 - acc: 1.0000 - 12ms/epoch - 12ms/step\n",
      "Epoch 98/100\n",
      "1/1 - 0s - loss: 0.5045 - acc: 1.0000 - 8ms/epoch - 8ms/step\n",
      "Epoch 99/100\n",
      "1/1 - 0s - loss: 0.5024 - acc: 1.0000 - 6ms/epoch - 6ms/step\n",
      "Epoch 100/100\n",
      "1/1 - 0s - loss: 0.5002 - acc: 1.0000 - 8ms/epoch - 8ms/step\n"
     ]
    },
    {
     "data": {
      "text/plain": [
       "<keras.src.callbacks.History at 0x2241d4af6d0>"
      ]
     },
     "execution_count": 7,
     "metadata": {},
     "output_type": "execute_result"
    }
   ],
   "source": [
    "# 이진 분류 모델을 설계합니다.\n",
    "# 출력층에 1개의 뉴런을 배치하고 활성화 함수로는 시그모이드 함수를, 그리고 손실함수로 binary_crossentropy사용\n",
    "# 100 에포크 학습합니다.\n",
    "\n",
    "from tensorflow.keras.models import Sequential\n",
    "from tensorflow.keras.layers import Dense, Embedding, Flatten\n",
    "\n",
    "embedding_dim = 4\n",
    "\n",
    "model = Sequential()\n",
    "model.add(Embedding(vocab_size, embedding_dim, input_length=max_len))\n",
    "model.add(Flatten())\n",
    "model.add(Dense(1, activation='sigmoid'))\n",
    "\n",
    "model.compile(optimizer='adam', loss='binary_crossentropy', metrics=['acc'])\n",
    "model.fit(X_train, y_train, epochs=100, verbose=2)\n"
   ]
  },
  {
   "cell_type": "markdown",
   "metadata": {},
   "source": [
    "#### 사전 훈련된 워드 임베딩(Pre-Trained Word Embedding)"
   ]
  },
  {
   "cell_type": "markdown",
   "metadata": {},
   "source": [
    "케라스의 Embedding()을 사용하여 처음부터 임베딩 벡터값을 학습하기도 하지만, 때로는 이미 훈련되어져 있는 워드 임베딩을 가져와서 이를 임베딩 벡터로 사용하기도 합니다. 훈련 데이터가 적은 상황이라면 케라스의 Embedding()으로 해당 문제를 풀기에 최적화 된 임베딩 벡터값을 얻는 것이 쉽지 않습니다. 이 경우 해당 문제에 특화된 것은 아니지만 보다 많은 훈련 데이터로 이미 Word2Vec이나 GloVe 등으로 학습되어져 있는 임베딩 벡터들을 사용하는 것이 성능의 개선을 가져올 수 있습니다. \n",
    "\n",
    "사전룬련딘 GloVe와 Word2Vec 임베딩을 사용해서 모델을 훈련시키는 실습을 진행해봅니다."
   ]
  },
  {
   "cell_type": "code",
   "execution_count": 11,
   "metadata": {},
   "outputs": [
    {
     "name": "stdout",
     "output_type": "stream",
     "text": [
      "[[ 1  2  3  4]\n",
      " [ 5  6  0  0]\n",
      " [ 7  8  0  0]\n",
      " [ 9 10  0  0]\n",
      " [11 12  0  0]\n",
      " [13  0  0  0]\n",
      " [14 15  0  0]]\n"
     ]
    }
   ],
   "source": [
    "print(X_train)"
   ]
  },
  {
   "cell_type": "code",
   "execution_count": 12,
   "metadata": {},
   "outputs": [
    {
     "name": "stdout",
     "output_type": "stream",
     "text": [
      "[1, 0, 0, 1, 1, 0, 1]\n"
     ]
    }
   ],
   "source": [
    "print(y_train)\n"
   ]
  },
  {
   "cell_type": "code",
   "execution_count": 10,
   "metadata": {},
   "outputs": [],
   "source": [
    "from urllib.request import urlretrieve, urlopen\n",
    "import gzip\n",
    "import zipfile\n",
    "\n",
    "urlretrieve(\"http://nlp.stanford.edu/data/glove.6B.zip\", filename=\"glove.6B.zip\")\n",
    "zf = zipfile.ZipFile('glove.6B.zip')\n",
    "zf.extractall() \n",
    "zf.close()\n"
   ]
  },
  {
   "cell_type": "code",
   "execution_count": 13,
   "metadata": {},
   "outputs": [
    {
     "name": "stdout",
     "output_type": "stream",
     "text": [
      "400000개의 Embedding vector가 있습니다.\n"
     ]
    }
   ],
   "source": [
    "embedding_dict = dict()\n",
    "\n",
    "f = open('glove.6B.100d.txt', encoding=\"utf8\")\n",
    "\n",
    "for line in f:\n",
    "    word_vector = line.split()\n",
    "    word = word_vector[0]\n",
    "\n",
    "    # 100개의 값을 가지는 array로 변환\n",
    "    word_vector_arr = np.asarray(word_vector[1:], dtype='float32')\n",
    "    embedding_dict[word] = word_vector_arr\n",
    "f.close()\n",
    "\n",
    "print('%s개의 Embedding vector가 있습니다.' % len(embedding_dict))\n"
   ]
  },
  {
   "cell_type": "code",
   "execution_count": 14,
   "metadata": {},
   "outputs": [
    {
     "name": "stdout",
     "output_type": "stream",
     "text": [
      "[-0.049773   0.19903    0.10585    0.1391    -0.32395    0.44053\n",
      "  0.3947    -0.22805   -0.25793    0.49768    0.15384   -0.08831\n",
      "  0.0782    -0.8299    -0.037788   0.16772   -0.45197   -0.17085\n",
      "  0.74756    0.98256    0.81872    0.28507    0.16178   -0.48626\n",
      " -0.006265  -0.92469   -0.30625   -0.067318  -0.046762  -0.76291\n",
      " -0.0025264 -0.018795   0.12882   -0.52457    0.3586     0.43119\n",
      " -0.89477   -0.057421  -0.53724    0.25587    0.55195    0.44698\n",
      " -0.24252    0.29946    0.25776   -0.8717     0.68426   -0.05688\n",
      " -0.1848    -0.59352   -0.11227   -0.57692   -0.013593   0.18488\n",
      " -0.32507   -0.90171    0.17672    0.075601   0.54896   -0.21488\n",
      " -0.54018   -0.45882   -0.79536    0.26331    0.18879   -0.16363\n",
      "  0.3975     0.1099     0.1164    -0.083499   0.50159    0.35802\n",
      "  0.25677    0.088546   0.42108    0.28674   -0.71285   -0.82915\n",
      "  0.15297   -0.82712    0.022112   1.067     -0.31776    0.1211\n",
      " -0.069755  -0.61327    0.27308   -0.42638   -0.085084  -0.17694\n",
      " -0.0090944  0.1109     0.62543   -0.23682   -0.44928   -0.3667\n",
      " -0.21616   -0.19187   -0.032502   0.38025  ]\n",
      "벡터의 차원 수 : 100\n"
     ]
    }
   ],
   "source": [
    "print(embedding_dict['respectable'])\n",
    "print('벡터의 차원 수 :',len(embedding_dict['respectable']))\n"
   ]
  },
  {
   "cell_type": "code",
   "execution_count": 16,
   "metadata": {},
   "outputs": [
    {
     "name": "stdout",
     "output_type": "stream",
     "text": [
      "dict_items([('nice', 1), ('great', 2), ('best', 3), ('amazing', 4), ('stop', 5), ('lies', 6), ('pitiful', 7), ('nerd', 8), ('excellent', 9), ('work', 10), ('supreme', 11), ('quality', 12), ('bad', 13), ('highly', 14), ('respectable', 15)])\n"
     ]
    }
   ],
   "source": [
    "print(tokenizer.word_index.items())\n"
   ]
  }
 ],
 "metadata": {
  "kernelspec": {
   "display_name": "Python 3",
   "language": "python",
   "name": "python3"
  },
  "language_info": {
   "codemirror_mode": {
    "name": "ipython",
    "version": 3
   },
   "file_extension": ".py",
   "mimetype": "text/x-python",
   "name": "python",
   "nbconvert_exporter": "python",
   "pygments_lexer": "ipython3",
   "version": "3.11.4"
  },
  "orig_nbformat": 4
 },
 "nbformat": 4,
 "nbformat_minor": 2
}
